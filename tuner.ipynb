{
 "cells": [
  {
   "cell_type": "markdown",
   "metadata": {},
   "source": [
    "# Imports"
   ]
  },
  {
   "cell_type": "code",
   "execution_count": 4,
   "metadata": {},
   "outputs": [
    {
     "name": "stdout",
     "output_type": "stream",
     "text": [
      "The hamilton.plugins.jupyter_magic extension is already loaded. To reload it, use:\n",
      "  %reload_ext hamilton.plugins.jupyter_magic\n"
     ]
    }
   ],
   "source": [
    "import inspect\n",
    "import itertools\n",
    "\n",
    "from hamilton import driver, graph_types\n",
    "import optuna\n",
    "from optuna.distributions import (\n",
    "    CategoricalDistribution,\n",
    "    IntDistribution,\n",
    ")\n",
    "from more_complex_project import (\n",
    "    ingestion_variant1,\n",
    "    ingestion_variant2,\n",
    "    model_v1,\n",
    "    model_v2,\n",
    "    transform_v1,\n",
    "    transform_v2,\n",
    ")\n",
    "%load_ext hamilton.plugins.jupyter_magic"
   ]
  },
  {
   "cell_type": "markdown",
   "metadata": {},
   "source": [
    "# Utilities"
   ]
  },
  {
   "cell_type": "code",
   "execution_count": 6,
   "metadata": {},
   "outputs": [],
   "source": [
    "# useful for creating module sets\n",
    "def get_list_permutations(**kwargs: list) -> list[tuple]:\n",
    "    return [perm for perm in itertools.product(*kwargs.values())]\n",
    "\n",
    "# useful for creating all config dictionaries\n",
    "def get_dict_permutations(**kwargs: list) -> list[dict]:\n",
    "    \"\"\"get all permutations dicts in a list\n",
    "    \n",
    "        ```\n",
    "        _get_permutations(\n",
    "            a=[0, 1, 2]\n",
    "            b=[\"x\", \"y\"],\n",
    "            c=[True]\n",
    "        )\n",
    "        returns\n",
    "        \n",
    "            {\"a\": 0, \"b\": \"x\", \"c\": True},\n",
    "            {\"a\": 1, \"b\": \"x\", \"c\": True},\n",
    "            {\"a\": 2, \"b\": \"x\", \"c\": True},\n",
    "            {\"a\": 0, \"b\": \"y\", \"c\": True},\n",
    "            {\"a\": 1, \"b\": \"y\", \"c\": True},\n",
    "            {\"a\": 2, \"b\": \"y\", \"c\": True},\n",
    "        ]\n",
    "        ```\n",
    "    \"\"\"\n",
    "    perms = []\n",
    "    for perm in itertools.product(*kwargs.values()):\n",
    "        perm_dict = dict(zip(kwargs.keys(), perm))\n",
    "        perms.append(perm_dict)\n",
    "\n",
    "    return perms\n",
    "\n",
    "\n",
    "def collect_inputs(dr: driver.Driver):\n",
    "    \"\"\"Collect what are required and optional inputs\"\"\"\n",
    "    h_graph = graph_types.HamiltonGraph.from_graph(dr.graph)\n",
    "\n",
    "    # store all optional dependencies\n",
    "    optional_deps = set()\n",
    "    for h_node in h_graph.nodes:\n",
    "        optional_deps = optional_deps.union(h_node.optional_dependencies)\n",
    "\n",
    "    inputs = {}\n",
    "    for h_node in h_graph.nodes:\n",
    "        # keep only external_input, which includes: required input, optional_input, and config\n",
    "        if not h_node.is_external_input:\n",
    "            continue\n",
    "\n",
    "        # if it's an optional dependency, collect the default parameter value from\n",
    "        # it's definition function\n",
    "        if h_node.name in optional_deps:\n",
    "            origin_function = h_node.originating_functions[0]\n",
    "            param = inspect.signature(origin_function).parameters[h_node.name]\n",
    "            inputs[h_node.name] = dict(\n",
    "                type=h_node.type,\n",
    "                required=False,\n",
    "                default=param.default,\n",
    "            )\n",
    "        \n",
    "        # if not in config either, then it's a required input\n",
    "        elif h_node.name not in dr.graph.config.keys():\n",
    "            # required=True isn't the same as default=None\n",
    "            # this param is required=False and default=None: `param: Optional[int] = None`\n",
    "            inputs[h_node.name] = dict(\n",
    "                type=h_node.type,\n",
    "                required=True,\n",
    "            )\n",
    "\n",
    "    return inputs"
   ]
  },
  {
   "cell_type": "code",
   "execution_count": 7,
   "metadata": {},
   "outputs": [
    {
     "data": {
      "text/plain": [
       "{'beta': {'type': float, 'required': True},\n",
       " 'gamma': {'type': float, 'required': False, 'default': 5.0}}"
      ]
     },
     "execution_count": 7,
     "metadata": {},
     "output_type": "execute_result"
    }
   ],
   "source": [
    "# collect input example\n",
    "dr = driver.Builder().with_modules(ingestion_variant1, model_v1, transform_v1).build()\n",
    "collect_inputs(dr)"
   ]
  },
  {
   "cell_type": "markdown",
   "metadata": {},
   "source": [
    "# Optimization example"
   ]
  },
  {
   "cell_type": "markdown",
   "metadata": {},
   "source": [
    "## Search space definition"
   ]
  },
  {
   "cell_type": "code",
   "execution_count": 3,
   "metadata": {},
   "outputs": [],
   "source": [
    "# for `driver.Builder.with_modules(...)`\n",
    "modules_sets = get_list_permutations(\n",
    "    ingestion=[ingestion_variant1, ingestion_variant2],\n",
    "    model=[model_v1, model_v2],\n",
    "    transform=[transform_v1, transform_v2],\n",
    ")\n",
    "modules_sets_ids = list(range(len(modules_sets)))\n",
    "\n",
    "# for `@config.when()` and `driver.Builder().with_config()`\n",
    "config_sets = []\n",
    "\n",
    "# for `Driver.excutes(inputs={...})`\n",
    "# define literals (e.g., a path, a fixed parameter)\n",
    "# or distributions with Optuna: https://optuna.readthedocs.io/en/stable/reference/distributions.html\n",
    "inputs_space = {\n",
    "    \"impute_method\": CategoricalDistribution([\"none\", \"zero\", \"mean\"]),\n",
    "    \"n_iterations\": IntDistribution(low=2, high=5, log=False, step=1),\n",
    "    \"n_rows\": IntDistribution(low=10, high=1000, log=True, step=1),\n",
    "    #\"raw_data_path\": [\"/path/my_data.parquet\"],\n",
    "}\n",
    "\n",
    "\n",
    "# create the single search space dictionary used by Optuna\n",
    "# TODO avoid dict key conflicts between modules, config, and inputs\n",
    "search_space = dict(\n",
    "    modules_set_id=CategoricalDistribution(modules_sets_ids),\n",
    "    # config=CategoricalDistribution(config_sets),\n",
    "    **inputs_space\n",
    ")"
   ]
  },
  {
   "cell_type": "markdown",
   "metadata": {},
   "source": [
    "## Optimization loop\n",
    "Using Optuna [\"Ask-and-tell: Define-and-run\" interface](https://optuna.readthedocs.io/en/stable/tutorial/20_recipes/009_ask_and_tell.html#define-and-run)"
   ]
  },
  {
   "cell_type": "code",
   "execution_count": 4,
   "metadata": {},
   "outputs": [
    {
     "name": "stderr",
     "output_type": "stream",
     "text": [
      "[I 2024-05-29 17:25:31,294] A new study created in memory with name: no-name-ea2ae871-60f5-4121-b4ba-54114675a8e2\n"
     ]
    }
   ],
   "source": [
    "# Optuna has many utils for storing, reloading, sampling, pruning\n",
    "# ref: https://optuna.readthedocs.io/en/stable/reference/generated/optuna.study.create_study.html\n",
    "study = optuna.create_study(direction=\"minimize\")\n",
    "final_var = \"fit_model\""
   ]
  },
  {
   "cell_type": "code",
   "execution_count": 8,
   "metadata": {},
   "outputs": [
    {
     "data": {
      "text/plain": [
       "FrozenTrial(number=3, state=1, values=[0.0], datetime_start=datetime.datetime(2024, 5, 29, 17, 25, 46, 681961), datetime_complete=datetime.datetime(2024, 5, 29, 17, 25, 46, 684732), params={'modules_set_id': 0, 'impute_method': 'zero', 'n_iterations': 2, 'n_rows': 213}, user_attrs={}, system_attrs={}, intermediate_values={}, distributions={'modules_set_id': CategoricalDistribution(choices=(0, 1, 2, 3, 4, 5, 6, 7)), 'impute_method': CategoricalDistribution(choices=('none', 'zero', 'mean')), 'n_iterations': IntDistribution(high=5, log=False, low=2, step=1), 'n_rows': IntDistribution(high=1000, log=True, low=10, step=1)}, trial_id=3, value=None)"
      ]
     },
     "execution_count": 8,
     "metadata": {},
     "output_type": "execute_result"
    }
   ],
   "source": [
    "# launch study\n",
    "for _ in range(3):\n",
    "    trial = study.ask(search_space)\n",
    "    params = trial.params\n",
    "    \n",
    "    modules_set = modules_sets[params[\"modules_set_id\"]]\n",
    "    dr = (\n",
    "        driver.Builder()\n",
    "        .with_modules(*modules_set)\n",
    "        .build()\n",
    "    )\n",
    "    inputs = {k:v for k,v in params.items() if k not in [\"modules_set_id\", \"config\"]}\n",
    "    results = dr.execute([final_var], inputs=inputs)\n",
    "    \n",
    "    # I would return results[final_var], but the current functions don't return a float\n",
    "    study.tell(trial, _)\n",
    "    \n",
    "study.best_trial"
   ]
  }
 ],
 "metadata": {
  "kernelspec": {
   "display_name": "Python 3 (ipykernel)",
   "language": "python",
   "name": "python3"
  },
  "language_info": {
   "codemirror_mode": {
    "name": "ipython",
    "version": 3
   },
   "file_extension": ".py",
   "mimetype": "text/x-python",
   "name": "python",
   "nbconvert_exporter": "python",
   "pygments_lexer": "ipython3",
   "version": "3.11.1"
  }
 },
 "nbformat": 4,
 "nbformat_minor": 2
}
